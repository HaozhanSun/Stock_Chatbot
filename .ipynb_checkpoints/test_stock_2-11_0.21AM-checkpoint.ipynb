{
 "cells": [
  {
   "cell_type": "code",
   "execution_count": 2,
   "metadata": {
    "ExecuteTime": {
     "end_time": "2019-02-11T04:56:35.470446Z",
     "start_time": "2019-02-11T04:56:35.463464Z"
    }
   },
   "outputs": [
    {
     "data": {
      "text/plain": [
       "'\\n    1. Current price\\n    2. Historical data\\n    3. Company info\\n    K line info?\\n    dataframe picture?\\n'"
      ]
     },
     "execution_count": 2,
     "metadata": {},
     "output_type": "execute_result"
    }
   ],
   "source": [
    "#------ Script ------\n",
    "'''\n",
    "    1. Current price\n",
    "    2. Historical data\n",
    "    3. Company info\n",
    "    K line info?\n",
    "    dataframe picture?\n",
    "'''"
   ]
  },
  {
   "cell_type": "code",
   "execution_count": 49,
   "metadata": {
    "ExecuteTime": {
     "end_time": "2019-02-11T05:26:24.202958Z",
     "start_time": "2019-02-11T05:26:24.106217Z"
    },
    "code_folding": [
     0
    ]
   },
   "outputs": [
    {
     "data": {
      "image/png": "[encoded data removed]",
      "text/plain": [
       "<Figure size 432x288 with 1 Axes>"
      ]
     },
     "metadata": {
      "needs_background": "light"
     },
     "output_type": "display_data"
    }
   ],
   "source": [
    "#------ Create a dict for json use ------\n",
    "stock_training = {\n",
    "  \"rasa_nlu_data\": {\n",
    "    \"regex_features\": [\n",
    "      {\n",
    "        \"name\": \"zipcode\",\n",
    "        \"pattern\": \"[0-9]{5}\"\n",
    "      },\n",
    "      {\n",
    "        \"name\": \"greet\",\n",
    "        \"pattern\": \"hey[^\\\\s]*\"\n",
    "      }\n",
    "    ],\n",
    "    \"entity_synonyms\": [\n",
    "      {\n",
    "        \"value\": \"information\",\n",
    "        \"synonyms\": [\"Info\", \"info\", \"Information\"]\n",
    "      },\n",
    "      {\n",
    "        \"value\": \"TSLA\",\n",
    "        \"synonyms\": [\"Tesla\",\"tesla\",\"teslaa\"]\n",
    "      },\n",
    "      {\n",
    "        \"value\": \"AAPL\",\n",
    "        \"synonyms\": [\"Apple\",\"apple\",\"aapl\"]\n",
    "      }\n",
    "    ],\n",
    "    \"common_examples\": [\n",
    "      {\n",
    "        \"text\": \"what can you do for me\",\n",
    "        \"intent\": \"function_intro\",\n",
    "        \"entities\": []\n",
    "      },\n",
    "      {\n",
    "        \"text\": \"what could you do\",\n",
    "        \"intent\": \"function_intro\",\n",
    "        \"entities\": []\n",
    "      },\n",
    "      {\n",
    "        \"text\": \"ok, what can you do\",\n",
    "        \"intent\": \"function_intro\",\n",
    "        \"entities\": []\n",
    "      },\n",
    "      {\n",
    "        \"text\": \"what stock information can you provide\",\n",
    "        \"intent\": \"function_intro\",\n",
    "        \"entities\": []\n",
    "      },\n",
    "      {\n",
    "        \"text\": \"I want to get current price of tesla\",\n",
    "        \"intent\": \"current_price\",\n",
    "        \"entities\": [\n",
    "          {\n",
    "            \"start\":31,\n",
    "            \"end\":36,\n",
    "            \"value\":\"TSLA\",\n",
    "            \"entity\":\"company\"\n",
    "          }\n",
    "        ]\n",
    "      },\n",
    "      {\n",
    "        \"text\": \"I want to know the price of tesla\",\n",
    "        \"intent\": \"current_price\",\n",
    "        \"entities\": [\n",
    "          {\n",
    "            \"start\":28,\n",
    "            \"end\":33,\n",
    "            \"value\":\"TSLA\",\n",
    "            \"entity\":\"company\"\n",
    "          }\n",
    "        ]\n",
    "      },\n",
    "      {\n",
    "        \"text\": \"tell me the price of teslaa\",\n",
    "        \"intent\": \"current_price\",\n",
    "        \"entities\": [\n",
    "          {\n",
    "            \"start\":21,\n",
    "            \"end\":27,\n",
    "            \"value\":\"TSLA\",\n",
    "            \"entity\":\"company\"\n",
    "          }\n",
    "        ]\n",
    "      },\n",
    "      {\n",
    "        \"text\": \"tell me the current price of teslaa\",\n",
    "        \"intent\": \"current_price\",\n",
    "        \"entities\": [\n",
    "          {\n",
    "            \"start\":29,\n",
    "            \"end\":35,\n",
    "            \"value\":\"TSLA\",\n",
    "            \"entity\":\"company\"\n",
    "          }\n",
    "        ]\n",
    "      },\n",
    "      {\n",
    "        \"text\": \"what about microsoft\",\n",
    "        \"intent\": \"current_price\",\n",
    "        \"entities\": [\n",
    "          {\n",
    "            \"start\":11,\n",
    "            \"end\":20,\n",
    "            \"value\":\"MSFT\",\n",
    "            \"entity\":\"company\"\n",
    "          }\n",
    "        ]\n",
    "      },\n",
    "      {\n",
    "        \"text\": \"what about amazon\",\n",
    "        \"intent\": \"current_price\",\n",
    "        \"entities\": [\n",
    "          {\n",
    "            \"start\":11,\n",
    "            \"end\":17,\n",
    "            \"value\":\"AMZN\",\n",
    "            \"entity\":\"company\"\n",
    "          }\n",
    "        ]\n",
    "      },\n",
    "      {\n",
    "        \"text\": \"tell me the price of TSLA and AAPL now\",\n",
    "        \"intent\": \"current_price\",\n",
    "        \"entities\": [\n",
    "          {\n",
    "            \"start\":21,\n",
    "            \"end\":25,\n",
    "            \"value\":\"TSLA\",\n",
    "            \"entity\":\"company\"\n",
    "          },\n",
    "          {\n",
    "            \"start\":30,\n",
    "            \"end\":34,\n",
    "            \"value\":\"AAPL\",\n",
    "            \"entity\":\"company\"\n",
    "          }\n",
    "        ]\n",
    "      },\n",
    "      {\n",
    "        \"text\": \"i want to get the historical close price of TSLA from 2017-5-8 to 2017-6-8\",\n",
    "        \"intent\": \"clear_historical_data\",\n",
    "        \"entities\": [\n",
    "          {\n",
    "            \"start\":44,\n",
    "            \"end\":49,\n",
    "            \"value\":\"TSLA\",\n",
    "            \"entity\":\"company\"\n",
    "          },\n",
    "          {\n",
    "              \"start\":29,\n",
    "              \"end\":40,\n",
    "              \"value\":\"close\",\n",
    "              \"entity\":\"hst_data_type\"\n",
    "          },\n",
    "          {\n",
    "              \"start\":55,\n",
    "              \"end\":63,\n",
    "              \"value\":\"2017-5-8\",\n",
    "              \"entity\":\"start_date\"\n",
    "          },\n",
    "          {\n",
    "              \"start\":67,\n",
    "              \"end\":75,\n",
    "              \"value\":\"2017-6-8\",\n",
    "              \"entity\":\"end_date\"\n",
    "          }\n",
    "        ]\n",
    "      },\n",
    "      {\n",
    "        \"text\": \"i want to get the historical close price of tesla from 2018-10-22 to 2018-11-22\",\n",
    "        \"intent\": \"clear_historical_data\",\n",
    "        \"entities\": [\n",
    "          {\n",
    "            \"start\":44,\n",
    "            \"end\":49,\n",
    "            \"value\":\"TSLA\",\n",
    "            \"entity\":\"company\"\n",
    "          },\n",
    "          {\n",
    "              \"start\":29,\n",
    "              \"end\":40,\n",
    "              \"value\":\"close\",\n",
    "              \"entity\":\"hst_data_type\"\n",
    "          },\n",
    "          {\n",
    "              \"start\":55,\n",
    "              \"end\":65,\n",
    "              \"value\":\"2018-10-22\",\n",
    "              \"entity\":\"start_date\"\n",
    "          },\n",
    "          {\n",
    "              \"start\":69,\n",
    "              \"end\":79,\n",
    "              \"value\":\"2018-11-22\",\n",
    "              \"entity\":\"end_date\"\n",
    "          }\n",
    "        ]\n",
    "      },\n",
    "      {\n",
    "        \"text\": \"i want to get the historical close price of tesla from Oct 12 2017 to Oct 22 2018\",\n",
    "        \"intent\": \"clear_historical_data\",\n",
    "        \"entities\": [\n",
    "          {\n",
    "            \"start\":44,\n",
    "            \"end\":49,\n",
    "            \"value\":\"TSLA\",\n",
    "            \"entity\":\"company\"\n",
    "          },\n",
    "          {\n",
    "              \"start\":29,\n",
    "              \"end\":40,\n",
    "              \"value\":\"close\",\n",
    "              \"entity\":\"hst_data_type\"\n",
    "          },\n",
    "          {\n",
    "              \"start\":55,\n",
    "              \"end\":66,\n",
    "              \"value\":\"2017-10-12\",\n",
    "              \"entity\":\"start_date\"\n",
    "          },\n",
    "          {\n",
    "              \"start\":70,\n",
    "              \"end\":81,\n",
    "              \"value\":\"2018-10-22\",\n",
    "              \"entity\":\"end_date\"\n",
    "          }\n",
    "        ]\n",
    "      },\n",
    "      {\n",
    "        \"text\": \"i want to get the historical close price of tesla from Oct 15 2017 to Oct 25 2018\",\n",
    "        \"intent\": \"clear_historical_data\",\n",
    "        \"entities\": [\n",
    "          {\n",
    "            \"start\":44,\n",
    "            \"end\":49,\n",
    "            \"value\":\"TSLA\",\n",
    "            \"entity\":\"company\"\n",
    "          },\n",
    "          {\n",
    "              \"start\":29,\n",
    "              \"end\":40,\n",
    "              \"value\":\"close\",\n",
    "              \"entity\":\"hst_data_type\"\n",
    "          },\n",
    "          {\n",
    "              \"start\":55,\n",
    "              \"end\":66,\n",
    "              \"value\":\"2017-10-15\",\n",
    "              \"entity\":\"start_date\"\n",
    "          },\n",
    "          {\n",
    "              \"start\":70,\n",
    "              \"end\":81,\n",
    "              \"value\":\"2018-10-25\",\n",
    "              \"entity\":\"end_date\"\n",
    "          }\n",
    "        ]\n",
    "      },\n",
    "      {\n",
    "        \"text\": \"i want to get the historical close price of apple from 2018-10-22 to 2018-11-22\",\n",
    "        \"intent\": \"clear_historical_data\",\n",
    "        \"entities\": [\n",
    "          {\n",
    "            \"start\":44,\n",
    "            \"end\":49,\n",
    "            \"value\":\"AAPL\",\n",
    "            \"entity\":\"company\"\n",
    "          },\n",
    "          {\n",
    "              \"start\":29,\n",
    "              \"end\":40,\n",
    "              \"value\":\"close\",\n",
    "              \"entity\":\"hst_data_type\"\n",
    "          },\n",
    "          {\n",
    "              \"start\":55,\n",
    "              \"end\":65,\n",
    "              \"value\":\"2018-10-22\",\n",
    "              \"entity\":\"start_date\"\n",
    "          },\n",
    "          {\n",
    "              \"start\":69,\n",
    "              \"end\":79,\n",
    "              \"value\":\"2018-11-22\",\n",
    "              \"entity\":\"end_date\"\n",
    "          }\n",
    "        ]\n",
    "      },\n",
    "      {\n",
    "        \"text\": \"give me the historical data of TSLA\",\n",
    "        \"intent\": \"vague_historical_data\",\n",
    "        \"entities\": [\n",
    "          {\n",
    "            \"start\":31,\n",
    "            \"end\":35,\n",
    "            \"value\":\"TSLA\",\n",
    "            \"entity\":\"company\"\n",
    "          }\n",
    "        ]\n",
    "      },\n",
    "      {\n",
    "        \"text\": \"i would like to get the historical close price of TSLA\",\n",
    "        \"intent\": \"vague_historical_data\",\n",
    "        \"entities\": [\n",
    "          {\n",
    "            \"start\":50,\n",
    "            \"end\":54,\n",
    "            \"value\":\"TSLA\",\n",
    "            \"entity\":\"company\"\n",
    "          },\n",
    "          {\n",
    "              \"start\":35,\n",
    "              \"end\":46,\n",
    "              \"value\":\"close\",\n",
    "              \"entity\":\"hst_data_type\"\n",
    "          }\n",
    "        ]\n",
    "      },\n",
    "      {\n",
    "        \"text\": \"i want to get the historical close price of TSLA\",\n",
    "        \"intent\": \"vague_historical_data\",\n",
    "        \"entities\": [\n",
    "          {\n",
    "            \"start\":44,\n",
    "            \"end\":48,\n",
    "            \"value\":\"TSLA\",\n",
    "            \"entity\":\"company\"\n",
    "          },\n",
    "          {\n",
    "              \"start\":29,\n",
    "              \"end\":40,\n",
    "              \"value\":\"close\",\n",
    "              \"entity\":\"hst_data_type\"\n",
    "          }\n",
    "        ]\n",
    "      },\n",
    "      {\n",
    "        \"text\": \"i want to know the highest price of TSLA in the past few days\",\n",
    "        \"intent\": \"vague_historical_data\",\n",
    "        \"entities\": [\n",
    "          {\n",
    "            \"start\":36,\n",
    "            \"end\":40,\n",
    "            \"value\":\"TSLA\",\n",
    "            \"entity\":\"company\"\n",
    "          },\n",
    "          {\n",
    "              \"start\":19,\n",
    "              \"end\":26,\n",
    "              \"value\":\"high\",\n",
    "              \"entity\":\"hst_data_type\"\n",
    "          }\n",
    "        ]\n",
    "      },\n",
    "      {\n",
    "        \"text\": \"show me the data of microsoft in the past few days\",\n",
    "        \"intent\": \"vague_historical_data\",\n",
    "        \"entities\": [\n",
    "          {\n",
    "            \"start\":20,\n",
    "            \"end\":29,\n",
    "            \"value\":\"MSFT\",\n",
    "            \"entity\":\"company\"\n",
    "          }\n",
    "        ]\n",
    "      },\n",
    "      {\n",
    "        \"text\": \"show me the historical open data of AAPL\",\n",
    "        \"intent\": \"vague_historical_data\",\n",
    "        \"entities\": [\n",
    "          {\n",
    "            \"start\":36,\n",
    "            \"end\":40,\n",
    "            \"value\":\"TSLA\",\n",
    "            \"entity\":\"company\"\n",
    "          },\n",
    "          {\n",
    "              \"start\":23,\n",
    "              \"end\":27,\n",
    "              \"value\":\"open\",\n",
    "              \"entity\":\"hst_data_type\"\n",
    "          }\n",
    "        ]\n",
    "      },\n",
    "      {\n",
    "        \"text\": \"give me the close data of microsoft\",\n",
    "        \"intent\": \"vague_historical_data\",\n",
    "        \"entities\": [\n",
    "          {\n",
    "              \"start\":12,\n",
    "              \"end\":17,\n",
    "              \"value\":\"close\",\n",
    "              \"entity\":\"hst_data_type\"\n",
    "          },\n",
    "          {\n",
    "            \"start\":26,\n",
    "            \"end\":35,\n",
    "            \"value\":\"MSFT\",\n",
    "            \"entity\":\"company\"\n",
    "          }\n",
    "        ]\n",
    "      },\n",
    "      {\n",
    "        \"text\": \"open data from 2017-12-1 to 2018-1-15\",\n",
    "        \"intent\": \"add_historical_data\",\n",
    "        \"entities\": [\n",
    "          {\n",
    "              \"start\":1,\n",
    "              \"end\":4,\n",
    "              \"value\":\"open\",\n",
    "              \"entity\":\"hst_data_type\"\n",
    "          },\n",
    "          {\n",
    "            \"start\":15,\n",
    "            \"end\":24,\n",
    "            \"value\":\"2017-12-1\",\n",
    "            \"entity\":\"start_date\"\n",
    "          },\n",
    "          {\n",
    "            \"start\":28,\n",
    "            \"end\":37,\n",
    "            \"value\":\"2018-1-15\",\n",
    "            \"entity\":\"end_date\"\n",
    "          }\n",
    "        ]\n",
    "      },\n",
    "      {\n",
    "        \"text\": \"from 2019-1-2 to 2019-2-3\",\n",
    "        \"intent\": \"add_historical_data\",\n",
    "        \"entities\": [\n",
    "          {\n",
    "            \"start\":5,\n",
    "            \"end\":13,\n",
    "            \"value\":\"2019-1-2\",\n",
    "            \"entity\":\"start_date\"\n",
    "          },\n",
    "          {\n",
    "            \"start\":17,\n",
    "            \"end\":25,\n",
    "            \"value\":\"2019-2-3\",\n",
    "            \"entity\":\"end_date\"\n",
    "          }\n",
    "        ]\n",
    "      },\n",
    "      {\n",
    "        \"text\": \"from 2017-12-1 to 2018-1-15\",\n",
    "        \"intent\": \"add_historical_data\",\n",
    "        \"entities\": [\n",
    "          {\n",
    "            \"start\":5,\n",
    "            \"end\":14,\n",
    "            \"value\":\"2017-12-1\",\n",
    "            \"entity\":\"start_date\"\n",
    "          },\n",
    "          {\n",
    "            \"start\":18,\n",
    "            \"end\":27,\n",
    "            \"value\":\"2018-1-15\",\n",
    "            \"entity\":\"end_date\"\n",
    "          }\n",
    "        ]\n",
    "      },\n",
    "      {\n",
    "        \"text\": \"from 2018-10-6 to 2018-12-25\",\n",
    "        \"intent\": \"add_historical_data\",\n",
    "        \"entities\": [\n",
    "          {\n",
    "            \"start\":5,\n",
    "            \"end\":14,\n",
    "            \"value\":\"2018-10-6\",\n",
    "            \"entity\":\"start_date\"\n",
    "          },\n",
    "          {\n",
    "            \"start\":18,\n",
    "            \"end\":28,\n",
    "            \"value\":\"2018-12-25\",\n",
    "            \"entity\":\"end_date\"\n",
    "          }\n",
    "        ]\n",
    "      },\n",
    "      {\n",
    "        \"text\": \"from May 1 2018 to Dec 31 2018\",\n",
    "        \"intent\": \"add_historical_data\",\n",
    "        \"entities\": [\n",
    "          {\n",
    "            \"start\":5,\n",
    "            \"end\":15,\n",
    "            \"value\":\"2018-5-1\",\n",
    "            \"entity\":\"start_date\"\n",
    "          },\n",
    "          {\n",
    "            \"start\":19,\n",
    "            \"end\":30,\n",
    "            \"value\":\"2018-12-31\",\n",
    "            \"entity\":\"end_date\"\n",
    "          }\n",
    "        ]\n",
    "      },\n",
    "      {\n",
    "        \"text\": \"from Dec 6 2018 to Dec 26 2018\",\n",
    "        \"intent\": \"add_historical_data\",\n",
    "        \"entities\": [\n",
    "          {\n",
    "            \"start\":5,\n",
    "            \"end\":15,\n",
    "            \"value\":\"2018-12-6\",\n",
    "            \"entity\":\"start_date\"\n",
    "          },\n",
    "          {\n",
    "            \"start\":19,\n",
    "            \"end\":30,\n",
    "            \"value\":\"2018-12-26\",\n",
    "            \"entity\":\"end_date\"\n",
    "          }\n",
    "        ]\n",
    "      },\n",
    "      {\n",
    "          \"text\":\"what do you think of the stock of tesla\",\n",
    "          \"intent\":\"advice\",\n",
    "          \"entities\":[\n",
    "            {\n",
    "              \"start\":34,\n",
    "              \"end\":39,\n",
    "              \"value\":\"TSLA\",\n",
    "              \"entity\":\"company\"\n",
    "            }\n",
    "          ]\n",
    "      },\n",
    "      {\n",
    "          \"text\":\"what do you think of the stock of apple\",\n",
    "          \"intent\":\"advice\",\n",
    "          \"entities\":[\n",
    "            {\n",
    "              \"start\":34,\n",
    "              \"end\":39,\n",
    "              \"value\":\"AAPL\",\n",
    "              \"entity\":\"company\"\n",
    "            }\n",
    "          ]\n",
    "      },\n",
    "      {\n",
    "          \"text\":\"how do you think of the stock of amazon\",\n",
    "          \"intent\":\"advice\",\n",
    "          \"entities\":[\n",
    "            {\n",
    "              \"start\":33,\n",
    "              \"end\":39,\n",
    "              \"value\":\"AMZN\",\n",
    "              \"entity\":\"company\"\n",
    "            }\n",
    "          ]\n",
    "      },\n",
    "      {\n",
    "        \"text\": \"hey\", \n",
    "        \"intent\": \"greet\", \n",
    "        \"entities\": []\n",
    "      }, \n",
    "      {\n",
    "        \"text\": \"howdy\", \n",
    "        \"intent\": \"greet\", \n",
    "        \"entities\": []\n",
    "      }, \n",
    "      {\n",
    "        \"text\": \"hey there\",\n",
    "        \"intent\": \"greet\", \n",
    "        \"entities\": []\n",
    "      }, \n",
    "      {\n",
    "        \"text\": \"hello\", \n",
    "        \"intent\": \"greet\", \n",
    "        \"entities\": []\n",
    "      }, \n",
    "      {\n",
    "        \"text\": \"hi\", \n",
    "        \"intent\": \"greet\", \n",
    "        \"entities\": []\n",
    "      },\n",
    "      {\n",
    "        \"text\": \"ok\",\n",
    "        \"intent\": \"finish\",\n",
    "        \"entities\": []\n",
    "      },\n",
    "      {\n",
    "        \"text\": \"great\",\n",
    "        \"intent\": \"finish\",\n",
    "        \"entities\": []\n",
    "      },\n",
    "      {\n",
    "        \"text\": \"right, thank you\",\n",
    "        \"intent\": \"finish\",\n",
    "        \"entities\": []\n",
    "      },\n",
    "      {\n",
    "        \"text\": \"bye\", \n",
    "        \"intent\": \"finish\", \n",
    "        \"entities\": []\n",
    "      }, \n",
    "      {\n",
    "        \"text\": \"goodbye\", \n",
    "        \"intent\": \"finish\", \n",
    "        \"entities\": []\n",
    "      }, \n",
    "      {\n",
    "        \"text\": \"good bye\", \n",
    "        \"intent\": \"finish\", \n",
    "        \"entities\": []\n",
    "      }, \n",
    "      {\n",
    "        \"text\": \"stop\", \n",
    "        \"intent\": \"finish\", \n",
    "        \"entities\": []\n",
    "      }, \n",
    "      {\n",
    "        \"text\": \"done\", \n",
    "        \"intent\": \"finish\", \n",
    "        \"entities\": []\n",
    "      }, \n",
    "      {\n",
    "        \"text\": \"farewell\",\n",
    "        \"intent\": \"finish\",\n",
    "        \"entities\": []\n",
    "      },\n",
    "      {\n",
    "        \"text\": \"Bye bye\",\n",
    "        \"intent\": \"finish\",\n",
    "        \"entities\": []\n",
    "      }\n",
    "    ]\n",
    "  }\n",
    "}"
   ]
  },
  {
   "cell_type": "code",
   "execution_count": 50,
   "metadata": {
    "ExecuteTime": {
     "end_time": "2019-02-11T05:26:24.301694Z",
     "start_time": "2019-02-11T05:26:24.295711Z"
    },
    "code_folding": []
   },
   "outputs": [
    {
     "name": "stdout",
     "output_type": "stream",
     "text": [
      "Done\n"
     ]
    }
   ],
   "source": [
    "#------ Write dict into json ------\n",
    "import json\n",
    "with open(\"../Stock_Project/stock_training.json\",\"w\") as f:\n",
    "    json.dump(stock_training,f)\n",
    "    print(\"Done\")"
   ]
  },
  {
   "cell_type": "code",
   "execution_count": 51,
   "metadata": {
    "ExecuteTime": {
     "end_time": "2019-02-11T05:26:34.029711Z",
     "start_time": "2019-02-11T05:26:24.448303Z"
    }
   },
   "outputs": [
    {
     "name": "stderr",
     "output_type": "stream",
     "text": [
      "F:\\Anaconda\\Anaconda\\envs\\py36\\lib\\site-packages\\rasa_nlu\\extractors\\entity_synonyms.py:113: UserWarning: Found conflicting synonym definitions for 'aapl'. Overwriting target 'AAPL' with 'TSLA'. Check your training data and remove conflicting synonym definitions to prevent this from happening.\n",
      "  repr(replacement)))\n"
     ]
    },
    {
     "name": "stdout",
     "output_type": "stream",
     "text": [
      "Fitting 2 folds for each of 6 candidates, totalling 12 fits\n"
     ]
    },
    {
     "name": "stderr",
     "output_type": "stream",
     "text": [
      "[Parallel(n_jobs=1)]: Done  12 out of  12 | elapsed:    0.0s finished\n"
     ]
    },
    {
     "name": "stdout",
     "output_type": "stream",
     "text": [
      "add_historical_data\n",
      "USER : And from May 1 2018 to Dec 31 2018\n",
      "BOT : OK, generating figure, please wait...\n"
     ]
    }
   ],
   "source": [
    "#------ Import necessary modules ------\n",
    "from rasa_nlu.training_data import load_data\n",
    "from rasa_nlu.config import RasaNLUModelConfig\n",
    "from rasa_nlu.model import Trainer\n",
    "from rasa_nlu import config\n",
    "\n",
    "#------ Create a trainer that uses this config ------\n",
    "trainer = Trainer(config.load(\"config_spacy.yml\"))\n",
    "\n",
    "#------ Load the training data ------\n",
    "training_data = load_data('stock_training.json')\n",
    "\n",
    "#------ Create an interpreter by training the model ------\n",
    "interpreter = trainer.train(training_data)\n"
   ]
  },
  {
   "cell_type": "code",
   "execution_count": 6,
   "metadata": {
    "ExecuteTime": {
     "end_time": "2019-02-11T04:56:47.554136Z",
     "start_time": "2019-02-11T04:56:47.406531Z"
    }
   },
   "outputs": [],
   "source": [
    "#------ Import necessary stock packages ------\n",
    "from iexfinance.stocks import Stock\n",
    "from iexfinance.stocks import get_historical_data\n",
    "from iexfinance.stocks import get_historical_intraday\n",
    "\n",
    "from datetime import datetime\n",
    "import matplotlib.pyplot as plt\n",
    "from datetime import datetime\n",
    "import re\n",
    "import string\n",
    "import random"
   ]
  },
  {
   "cell_type": "code",
   "execution_count": 68,
   "metadata": {
    "ExecuteTime": {
     "end_time": "2019-02-11T05:45:37.393715Z",
     "start_time": "2019-02-11T05:45:37.384740Z"
    }
   },
   "outputs": [],
   "source": []
  },
  {
   "cell_type": "code",
   "execution_count": 69,
   "metadata": {
    "ExecuteTime": {
     "end_time": "2019-02-11T05:45:37.656013Z",
     "start_time": "2019-02-11T05:45:37.634073Z"
    },
    "code_folding": [
     2,
     12,
     24,
     27,
     61,
     65,
     78,
     85
    ]
   },
   "outputs": [
    {
     "name": "stdout",
     "output_type": "stream",
     "text": [
      "function_intro\n",
      "USER : Ok, what can you do\n",
      "BOT : Currently I can help you with: \n",
      "1. Get current price \n",
      "2. Get historical data \n",
      "3. Give advice on certain stocks \n",
      "in v0.1.0 :)\n",
      "current_price\n",
      "USER : Then tell me the price of Microsoft\n",
      "BOT : MSFT has a real-time price of 105.67\n",
      "current_price\n",
      "USER : And tell me about amazon\n",
      "BOT : AMZN has a real-time price of 1588.22\n"
     ]
    }
   ],
   "source": []
  },
  {
   "cell_type": "code",
   "execution_count": null,
   "metadata": {
    "ExecuteTime": {
     "start_time": "2019-02-11T03:54:45.767Z"
    }
   },
   "outputs": [
    {
     "name": "stdout",
     "output_type": "stream",
     "text": [
      "USER : hi\n",
      "BOT : Hi, I'm a chatbot to help you with stock information. How can I help you?\n",
      "USER : what can you do\n",
      "BOT : Currently I can help you with: 1. Get current price 2. Get historical data in v0.1.0 :)\n",
      "USER : ok\n",
      "BOT : No problem! And I'm always ready!\n",
      "USER : then tell me the price of teslaa\n"
     ]
    }
   ],
   "source": [
    "# # ------ Run the test ------\n",
    "# # Send the messages\n",
    "# send_messages([\n",
    "#     \"hi\",\n",
    "#     \"what can you do\",\n",
    "#     \"ok\",\n",
    "#     \"then tell me the price of teslaa\",\n",
    "#     \"what about amazon\",\n",
    "#     \"thank you\"\n",
    "# #     \"i want to get the historical close price of tesla from Oct 12 2017 to Oct 22 2018\",\n",
    "# #     \"show me the historical open data of AAPL\",\n",
    "# #     \"from 2018-10-6 to 2018-12-25\"\n",
    "# #     \"from Dec 1 2018 to Dec 31 2018\"\n",
    "# ])"
   ]
  },
  {
   "cell_type": "code",
   "execution_count": 62,
   "metadata": {
    "ExecuteTime": {
     "end_time": "2019-02-11T05:41:41.865356Z",
     "start_time": "2019-02-11T05:41:32.545276Z"
    }
   },
   "outputs": [
    {
     "name": "stderr",
     "output_type": "stream",
     "text": [
      "Getting uuid of QR code.\n",
      "Downloading QR code.\n",
      "Please scan the QR code to log in.\n",
      "Please press confirm on your phone.\n",
      "Loading the contact, this may take a little while.\n",
      "Login successfully as Psalm.\n"
     ]
    }
   ],
   "source": [
    "# ------ Wechat part ------\n",
    "from wxpy import *\n",
    "\n",
    "#------ Create a new Bot object ------\n",
    "bot = Bot()\n"
   ]
  },
  {
   "cell_type": "code",
   "execution_count": 63,
   "metadata": {
    "ExecuteTime": {
     "end_time": "2019-02-11T05:42:07.990504Z",
     "start_time": "2019-02-11T05:42:07.985518Z"
    }
   },
   "outputs": [
    {
     "data": {
      "text/plain": [
       "<Friend: Chatbot>"
      ]
     },
     "execution_count": 63,
     "metadata": {},
     "output_type": "execute_result"
    }
   ],
   "source": [
    "my_friend = bot.friends().search('Chatbot_KennethSun')[0]\n",
    "my_friend"
   ]
  },
  {
   "cell_type": "code",
   "execution_count": 91,
   "metadata": {
    "ExecuteTime": {
     "end_time": "2019-02-11T05:51:46.321359Z",
     "start_time": "2019-02-11T05:51:46.313382Z"
    }
   },
   "outputs": [
    {
     "name": "stdout",
     "output_type": "stream",
     "text": [
      "The current price of {} is {}\n"
     ]
    }
   ],
   "source": [
    "# Define the states\n",
    "CONFUSE = -1\n",
    "INIT = 0\n",
    "MAIN = 1\n",
    "CRT_PRICE = 2\n",
    "HST_DATA = 3\n",
    "CO_INFO = 4\n",
    "\n",
    "#------ Define response group ------\n",
    "response_group = [\n",
    "    \"Hi, I'm a chatbot to help you with stock information. How can I help you?\", \n",
    "    \"Currently I can help you with: \\n1. Get key stats of stocks \\n2. Get historical data \\n3. Give advice on certain stocks \\nin v0.1.0 :)\", \n",
    "    \"The current price of {} is {}\", \n",
    "    \"OK! Tell me when you need more assists!\",\n",
    "    \"Alright! But could you specify which time of data you want to query?\",\n",
    "    \"OK, generating figure, please wait...\",\n",
    "    \"Sorry I can't understand you, could you specify again? :)\",\n",
    "    \"That's alright! Just give me some work!\",\n",
    "    \"{} has a real-time price of {}\",\n",
    "    \"No problem! And I'm always ready!\",\n",
    "    \"The Earning Per Share (TTM) of {} is currently {}. We recommend that you stay on the sidelines in the near future.\"\n",
    "]\n",
    "\n",
    "#------ Define the policy rules dictionary ------\n",
    "med = random.choice([response_group[8],response_group[2]])\n",
    "print(med)\n",
    "policy_rules = {\n",
    "    #------ Greet ------\n",
    "    (INIT, \"greet\"): (MAIN, response_group[0], None),\n",
    "    (MAIN, \"greet\"): (MAIN, response_group[0], None),\n",
    "    (MAIN, \"finish\"): (MAIN, med, None),\n",
    "    #------ Ask for function introduction ------\n",
    "    (MAIN,\"function_intro\"): (MAIN, response_group[1], None),\n",
    "    #------ Current price ------\n",
    "    # Get current price\n",
    "    (MAIN, \"current_price\"): (CRT_PRICE, med, None),\n",
    "    # Get current price for multiple times\n",
    "    (CRT_PRICE, \"current_price\"): (CRT_PRICE, med, None),\n",
    "    # Finished, return to main menu\n",
    "    (CRT_PRICE, \"finish\"): (MAIN, response_group[3], None),\n",
    "    #------ Clear and vague historical data ------\n",
    "    # Received clear historical data information\n",
    "    (MAIN, \"clear_historical_data\"): (MAIN, response_group[5], None),\n",
    "    # Received vague information, ask for more\n",
    "    (MAIN, \"vague_historical_data\"): (MAIN, response_group[4], HST_DATA),\n",
    "    (HST_DATA, \"vague_historical_data\"): (MAIN, response_group[4], HST_DATA),\n",
    "    # Get additional information to finish the query\n",
    "    (MAIN, \"add_historical_data\"): (HST_DATA, response_group[5], None),\n",
    "    (HST_DATA, \"vague_historical_data\"): (HST_DATA, response_group[5], None),\n",
    "    # Finished, return to main menu\n",
    "    (HST_DATA, \"finish\"): (MAIN, random.choice([response_group[3],response_group[7],response_group[9]]), None),\n",
    "    # Response to provide advice\n",
    "    (MAIN, \"advice\"): (MAIN, response_group[10], None)\n",
    "}"
   ]
  },
  {
   "cell_type": "code",
   "execution_count": 92,
   "metadata": {
    "ExecuteTime": {
     "end_time": "2019-02-11T05:51:46.517834Z",
     "start_time": "2019-02-11T05:51:46.496893Z"
    },
    "code_folding": [
     2,
     12,
     24,
     61,
     65,
     78,
     85,
     155
    ]
   },
   "outputs": [],
   "source": [
    "#------ Function definition ------\n",
    "#------ 1.get_current_price() ------\n",
    "def get_current_price(company_list):\n",
    "    batch = Stock(company_list)\n",
    "    prices = batch.get_price()\n",
    "    return prices\n",
    "\n",
    "#------ 2.get_historical_data() ------\n",
    "#------ 3.get_company_info() ------\n",
    "\n",
    "\n",
    "#------ send_message() ------\n",
    "def send_message(state, pending, message):\n",
    "    print(\"USER : {}\".format(message))\n",
    "    new_state, response, pending_state = respond(state, message)\n",
    "    print(\"BOT : {}\".format(response))\n",
    "    if pending is not None:\n",
    "        new_state, response, pending_state = policy_rules[pending]\n",
    "#         print(\"BOT : {}\".format(response))\n",
    "    if pending_state is not None:\n",
    "        pending = (pending_state, get_intent(message))\n",
    "    return new_state, pending, response, get_intent(message)\n",
    "\n",
    "#------ respond() ------\n",
    "def respond(state, message):\n",
    "    entity = get_entity(message)\n",
    "    # Use exception handler to increase robustness\n",
    "    try:\n",
    "        new_state = policy_rules[(state, get_intent(message))][0]\n",
    "    except KeyError:\n",
    "        new_state = CONFUSE\n",
    "    pending_state = policy_rules[(state, get_intent(message))][2]\n",
    "    # If client is greeting\n",
    "    if get_intent(message) == 'greet':\n",
    "        response = policy_rules[(state, get_intent(message))][1]\n",
    "    # If client is asking for function introduction\n",
    "    if get_intent(message) == 'function_intro':\n",
    "        response = policy_rules[(state, get_intent(message))][1]\n",
    "    # If client is querying current price\n",
    "    if get_intent(message) == 'current_price':\n",
    "        response = policy_rules[(state, get_intent(message))][1].format(entity, \n",
    "                                                                        get_current_price(entity))\n",
    "    # If client is querying historical data with clear information\n",
    "    if get_intent(message) == 'clear_historical_data':\n",
    "        response = policy_rules[(state, get_intent(message))][1]\n",
    "        generate_figure(message)\n",
    "    # If client is querying historical data vaguely\n",
    "    if get_intent(message) == 'vague_historical_data':\n",
    "        response = policy_rules[(state, get_intent(message))][1]\n",
    "    # If client is adding additional information for historical data\n",
    "    if get_intent(message) == 'add_historical_data':\n",
    "        response = policy_rules[(state, get_intent(message))][1]\n",
    "        generate_figure(message)\n",
    "    # If client is finished\n",
    "    if get_intent(message) == 'finish':\n",
    "        response = policy_rules[(state, get_intent(message))][1]\n",
    "    # If client is asking for advice\n",
    "    if get_intent(message) == 'advice':\n",
    "        response = policy_rules[(state, get_intent(message))][1].format(entity,get_ttmEPS(entity))\n",
    "    return new_state, response, pending_state\n",
    "\n",
    "def get_intent(message):\n",
    "    return interpreter.parse(message)['intent']['name']\n",
    "\n",
    "\n",
    "def get_entity(message):\n",
    "    # If the client is greeting or finish with no entity, extract nothing\n",
    "    if interpreter.parse(message)['entities'] == []:\n",
    "        return []\n",
    "    # If the client is querying current price / historical data, extract the company name\n",
    "    if interpreter.parse(message)['entities'][0]['entity'] == 'company':\n",
    "        return interpreter.parse(message)['entities'][0]['value']\n",
    "  \n",
    "    # If the client is giving additional time information, extract the start_date and end_date\n",
    "        return [interpreter.parse(message)['entities'][0]['value'],\n",
    "                interpreter.parse(message)['entities'][1]['value']]\n",
    "    \n",
    "    \n",
    "def get_ttmEPS(company):\n",
    "    a = Stock(company)\n",
    "    ttmEPS = a.get_key_stats()['ttmEPS']\n",
    "    return ttmEPS\n",
    "\n",
    "    \n",
    "# Generate a figure when querying historical data\n",
    "def generate_figure(message):\n",
    "    comprehended_data = interpreter.parse(message)\n",
    "    \n",
    "    for i in range(0,2):\n",
    "        if comprehended_data['entities'][i]['entity'] == 'company':\n",
    "            required_company = comprehended_data['entities'][i]['value']\n",
    "        if comprehended_data['entities'][i]['entity'] == 'hst_data_type':\n",
    "            required_type = comprehended_data['entities'][i]['value']\n",
    "        else:\n",
    "            required_company = 'AAPL'\n",
    "            required_type = 'close'\n",
    "            \n",
    "    # If it is additional information for vague query on historical data\n",
    "    if len(comprehended_data['entities']) <= 3:\n",
    "        \n",
    "        time_period = [comprehended_data['entities'][0]['value'],\n",
    "                       comprehended_data['entities'][1]['value']]\n",
    "\n",
    "        time1_splited = time_period[0].split(' - ')\n",
    "        time2_splited = time_period[1].split(' - ')\n",
    "        \n",
    "        if len(time1_splited) == 1:\n",
    "            time1_splited = time1_splited[0].split('-')\n",
    "        if len(time2_splited) == 1:\n",
    "            time2_splited = time2_splited[0].split('-')\n",
    "        \n",
    "        start_year = int(time1_splited[0])\n",
    "       \n",
    "        start_month = int(time1_splited[1])\n",
    "        start_day = int(time1_splited[2])\n",
    "\n",
    "        end_year = int(time2_splited[0])\n",
    "        end_month = int(time2_splited[1])\n",
    "        end_day = int(time2_splited[2])\n",
    "\n",
    "        start_time = datetime(start_year, start_month, start_day)\n",
    "        end_time = datetime(end_year, end_month, end_day)\n",
    "\n",
    "        hst_data = get_historical_data(required_company,start_time,end_time,output_format='pandas')\n",
    "\n",
    "    # If it is from a clear query on historical data\n",
    "    else:\n",
    "    \n",
    "        time_period = [comprehended_data['entities'][2]['value'],\n",
    "                       comprehended_data['entities'][3]['value']]\n",
    "\n",
    "        time1_splited = time_period[0].split('-')\n",
    "        time2_splited = time_period[1].split('-')\n",
    "\n",
    "        start_year = int(time1_splited[0])\n",
    "        start_month = int(time1_splited[1])\n",
    "        start_day = int(time1_splited[2])\n",
    "\n",
    "        end_year = int(time2_splited[0])\n",
    "        end_month = int(time2_splited[1])\n",
    "        end_day = int(time2_splited[2])\n",
    "\n",
    "        start_time = datetime(start_year, start_month, start_day)\n",
    "        end_time = datetime(end_year, end_month, end_day)\n",
    "\n",
    "        hst_data = get_historical_data(required_company,start_time,end_time,output_format='pandas')\n",
    "\n",
    "    \n",
    "    \n",
    "    plot_required_type = hst_data[required_type].plot()\n",
    "    \n",
    "    fig = plot_required_type.get_figure()\n",
    "    fig.savefig('fig.png')\n",
    "    \n",
    "# Define send_messages()\n",
    "def send_messages(messages):\n",
    "    state = MAIN\n",
    "    pending = None\n",
    "    for msg in messages:\n",
    "        state, pending, final_response, message_intent = send_message(state, pending, msg)\n"
   ]
  },
  {
   "cell_type": "code",
   "execution_count": 93,
   "metadata": {
    "ExecuteTime": {
     "end_time": "2019-02-11T05:51:47.212976Z",
     "start_time": "2019-02-11T05:51:47.207989Z"
    }
   },
   "outputs": [],
   "source": [
    "@bot.register(my_friend, TEXT)\n",
    "def auto_reply(msg):\n",
    "    # 回复消息内容和类型\n",
    "    state = MAIN\n",
    "    pending = None\n",
    "    print(get_intent(msg.text))\n",
    "    \n",
    "    state, pending, final_response, message_intent = send_message(state, pending, msg.text)\n",
    "    msg.reply(final_response)\n",
    "    if message_intent == 'clear_historical_data' or message_intent == 'add_historical_data':\n",
    "        msg.reply_image('fig.png')\n",
    "    return fianl_response"
   ]
  },
  {
   "cell_type": "code",
   "execution_count": 65,
   "metadata": {
    "ExecuteTime": {
     "end_time": "2019-02-11T05:42:30.988014Z",
     "start_time": "2019-02-11T05:42:30.984025Z"
    }
   },
   "outputs": [
    {
     "data": {
      "text/plain": [
       "[<MessageConfig: Psalm.: auto_reply (Enabled, Async)>]"
      ]
     },
     "execution_count": 65,
     "metadata": {},
     "output_type": "execute_result"
    },
    {
     "name": "stdout",
     "output_type": "stream",
     "text": [
      "greet\n",
      "USER : Hi\n",
      "BOT : Hi, I'm a chatbot to help you with stock information. How can I help you?\n",
      "greet\n",
      "USER : Hi\n",
      "BOT : Hi, I'm a chatbot to help you with stock information. How can I help you?\n",
      "function_intro\n",
      "USER : Ok,what can you do\n",
      "BOT : Currently I can help you with: 1. Get current price 2. Get historical data in v0.1.0 :)\n"
     ]
    }
   ],
   "source": [
    "bot.registered"
   ]
  },
  {
   "cell_type": "code",
   "execution_count": 50,
   "metadata": {
    "ExecuteTime": {
     "end_time": "2019-02-10T17:14:19.947910Z",
     "start_time": "2019-02-10T17:14:19.877588Z"
    }
   },
   "outputs": [
    {
     "name": "stdout",
     "output_type": "stream",
     "text": [
      "USER : Ok\n",
      "BOT : Just give me some work!\n"
     ]
    }
   ],
   "source": [
    "state, pending, final_response = send_message(1, None, 'Ok')"
   ]
  },
  {
   "cell_type": "code",
   "execution_count": 122,
   "metadata": {
    "ExecuteTime": {
     "end_time": "2019-02-10T18:04:01.590660Z",
     "start_time": "2019-02-10T18:04:01.576697Z"
    }
   },
   "outputs": [
    {
     "data": {
      "text/plain": [
       "{'intent': {'name': 'vague_historical_data', 'confidence': 0.5998978444821953},\n",
       " 'entities': [{'start': 12,\n",
       "   'end': 17,\n",
       "   'value': 'close',\n",
       "   'entity': 'hst_data_type',\n",
       "   'confidence': 0.7933740183355634,\n",
       "   'extractor': 'ner_crf'},\n",
       "  {'start': 26,\n",
       "   'end': 35,\n",
       "   'value': 'MSFT',\n",
       "   'entity': 'company',\n",
       "   'confidence': 0.9742411926027041,\n",
       "   'extractor': 'ner_crf',\n",
       "   'processors': ['ner_synonyms']}],\n",
       " 'intent_ranking': [{'name': 'vague_historical_data',\n",
       "   'confidence': 0.5998978444821953},\n",
       "  {'name': 'current_price', 'confidence': 0.11292735888773599},\n",
       "  {'name': 'finish', 'confidence': 0.09921717302079122},\n",
       "  {'name': 'function_intro', 'confidence': 0.0616925493374366},\n",
       "  {'name': 'clear_historical_data', 'confidence': 0.05489826736251773},\n",
       "  {'name': 'greet', 'confidence': 0.037761739328702144},\n",
       "  {'name': 'add_historical_data', 'confidence': 0.03360506758062097}],\n",
       " 'text': 'give me the close data of Microsoft'}"
      ]
     },
     "execution_count": 122,
     "metadata": {},
     "output_type": "execute_result"
    }
   ],
   "source": [
    "interpreter.parse('give me the close data of Microsoft')"
   ]
  },
  {
   "cell_type": "code",
   "execution_count": null,
   "metadata": {},
   "outputs": [],
   "source": [
    "\"hi\",\n",
    "\"ok, what can you do\",\n",
    "\"then tell me the price of microsoft\",\n",
    "\"then tell me about amazon\",\n",
    "\"what about teslaa\",\n",
    "\"thank you\",\n",
    "\"show me the historical open data of apple\",\n",
    "\"from May 1 2018 to Dec 31 2018\",\n",
    "\"and from 2018-5-22 to 2018-10-6\",\n",
    "\"i also want to get the historical close price of tesla umm like... from Oct 12 2017 to Oct 22 2018\",\n",
    "\"what do you think of the stock of tesla\"\n"
   ]
  },
  {
   "cell_type": "code",
   "execution_count": 13,
   "metadata": {
    "ExecuteTime": {
     "end_time": "2019-02-11T04:57:36.835371Z",
     "start_time": "2019-02-11T04:57:36.832380Z"
    }
   },
   "outputs": [],
   "source": [
    "a = Stock('TSLA')\n",
    "# df = a.get_financials()\n",
    "\n"
   ]
  },
  {
   "cell_type": "code",
   "execution_count": 15,
   "metadata": {
    "ExecuteTime": {
     "end_time": "2019-02-11T04:58:50.435094Z",
     "start_time": "2019-02-11T04:58:45.088390Z"
    }
   },
   "outputs": [
    {
     "data": {
      "text/plain": [
       "-5.88"
      ]
     },
     "execution_count": 15,
     "metadata": {},
     "output_type": "execute_result"
    }
   ],
   "source": [
    "a.get_key_stats()['ttmEPS']"
   ]
  },
  {
   "cell_type": "code",
   "execution_count": 61,
   "metadata": {
    "ExecuteTime": {
     "end_time": "2019-02-11T05:37:52.347034Z",
     "start_time": "2019-02-11T05:37:52.273232Z"
    }
   },
   "outputs": [
    {
     "data": {
      "text/plain": [
       "{'intent': {'name': 'current_price', 'confidence': 0.5402943194804503},\n",
       " 'entities': [{'start': 26,\n",
       "   'end': 35,\n",
       "   'value': 'MSFT',\n",
       "   'entity': 'company',\n",
       "   'confidence': 0.9863771031783753,\n",
       "   'extractor': 'ner_crf',\n",
       "   'processors': ['ner_synonyms']}],\n",
       " 'intent_ranking': [{'name': 'current_price',\n",
       "   'confidence': 0.5402943194804503},\n",
       "  {'name': 'vague_historical_data', 'confidence': 0.1650338720728351},\n",
       "  {'name': 'finish', 'confidence': 0.08764170028713922},\n",
       "  {'name': 'advice', 'confidence': 0.062381668171108955},\n",
       "  {'name': 'function_intro', 'confidence': 0.04957389484532344},\n",
       "  {'name': 'greet', 'confidence': 0.036947397398948485},\n",
       "  {'name': 'clear_historical_data', 'confidence': 0.03477944417186223},\n",
       "  {'name': 'add_historical_data', 'confidence': 0.023347703572332124}],\n",
       " 'text': 'then tell me the price of microsoft'}"
      ]
     },
     "execution_count": 61,
     "metadata": {},
     "output_type": "execute_result"
    },
    {
     "data": {
      "image/png": "[encoded data removed]",
      "text/plain": [
       "<Figure size 432x288 with 1 Axes>"
      ]
     },
     "metadata": {
      "needs_background": "light"
     },
     "output_type": "display_data"
    },
    {
     "name": "stderr",
     "output_type": "stream",
     "text": [
      "LOG OUT!\n"
     ]
    }
   ],
   "source": [
    "interpreter.parse(\"then tell me the price of microsoft\")\n"
   ]
  },
  {
   "cell_type": "code",
   "execution_count": null,
   "metadata": {},
   "outputs": [],
   "source": []
  }
 ],
 "metadata": {
  "kernelspec": {
   "display_name": "Python 3",
   "language": "python",
   "name": "python3"
  },
  "language_info": {
   "codemirror_mode": {
    "name": "ipython",
    "version": 3
   },
   "file_extension": ".py",
   "mimetype": "text/x-python",
   "name": "python",
   "nbconvert_exporter": "python",
   "pygments_lexer": "ipython3",
   "version": "3.6.7"
  },
  "latex_envs": {
   "LaTeX_envs_menu_present": true,
   "autoclose": false,
   "autocomplete": true,
   "bibliofile": "biblio.bib",
   "cite_by": "apalike",
   "current_citInitial": 1,
   "eqLabelWithNumbers": true,
   "eqNumInitial": 1,
   "hotkeys": {
    "equation": "Ctrl-E",
    "itemize": "Ctrl-I"
   },
   "labels_anchors": false,
   "latex_user_defs": false,
   "report_style_numbering": false,
   "user_envs_cfg": false
  },
  "toc": {
   "base_numbering": 1,
   "nav_menu": {},
   "number_sections": true,
   "sideBar": true,
   "skip_h1_title": false,
   "title_cell": "Table of Contents",
   "title_sidebar": "Contents",
   "toc_cell": false,
   "toc_position": {},
   "toc_section_display": true,
   "toc_window_display": false
  }
 },
 "nbformat": 4,
 "nbformat_minor": 2
}
