{
 "cells": [
  {
   "cell_type": "code",
   "execution_count": 1,
   "metadata": {
    "ExecuteTime": {
     "end_time": "2019-02-05T03:48:22.791389Z",
     "start_time": "2019-02-05T03:48:22.183794Z"
    }
   },
   "outputs": [
    {
     "name": "stdout",
     "output_type": "stream",
     "text": [
      "█\r"
     ]
    }
   ],
   "source": [
    "from wxpy import *"
   ]
  },
  {
   "cell_type": "code",
   "execution_count": 2,
   "metadata": {
    "ExecuteTime": {
     "end_time": "2019-02-05T03:48:43.630738Z",
     "start_time": "2019-02-05T03:48:24.863355Z"
    }
   },
   "outputs": [
    {
     "name": "stderr",
     "output_type": "stream",
     "text": [
      "Getting uuid of QR code.\n",
      "Downloading QR code.\n",
      "Please scan the QR code to log in.\n",
      "Please press confirm on your phone.\n",
      "Loading the contact, this may take a little while.\n",
      "Login successfully as 清静\n"
     ]
    }
   ],
   "source": [
    "bot = Bot()"
   ]
  },
  {
   "cell_type": "code",
   "execution_count": 3,
   "metadata": {
    "ExecuteTime": {
     "end_time": "2019-02-05T03:48:48.244062Z",
     "start_time": "2019-02-05T03:48:48.236153Z"
    }
   },
   "outputs": [],
   "source": [
    "my_friend = bot.friends().search('Psalm.')[0]"
   ]
  },
  {
   "cell_type": "code",
   "execution_count": 4,
   "metadata": {
    "ExecuteTime": {
     "end_time": "2019-02-05T03:48:48.963200Z",
     "start_time": "2019-02-05T03:48:48.949281Z"
    }
   },
   "outputs": [
    {
     "data": {
      "text/plain": [
       "<Friend: Psalm.>"
      ]
     },
     "execution_count": 4,
     "metadata": {},
     "output_type": "execute_result"
    }
   ],
   "source": [
    "my_friend"
   ]
  },
  {
   "cell_type": "code",
   "execution_count": 5,
   "metadata": {
    "ExecuteTime": {
     "end_time": "2019-02-05T03:50:05.063468Z",
     "start_time": "2019-02-05T03:49:04.916834Z"
    }
   },
   "outputs": [
    {
     "name": "stderr",
     "output_type": "stream",
     "text": [
      "D:\\Life_At_ANU\\COMP4650\\lib\\site-packages\\h5py\\__init__.py:36: FutureWarning: Conversion of the second argument of issubdtype from `float` to `np.floating` is deprecated. In future, it will be treated as `np.float64 == np.dtype(float).type`.\n",
      "  from ._conv import register_converters as _register_converters\n"
     ]
    },
    {
     "name": "stdout",
     "output_type": "stream",
     "text": [
      "Fitting 2 folds for each of 6 candidates, totalling 12 fits\n"
     ]
    },
    {
     "name": "stderr",
     "output_type": "stream",
     "text": [
      "[Parallel(n_jobs=1)]: Done  12 out of  12 | elapsed:    0.0s finished\n"
     ]
    }
   ],
   "source": [
    "#-------------------------------------------------- TRAINING MODEL --------------------------------------------------\n",
    "# Import necessary modules\n",
    "from rasa_nlu.training_data import load_data\n",
    "from rasa_nlu.config import RasaNLUModelConfig\n",
    "from rasa_nlu.model import Trainer\n",
    "from rasa_nlu import config\n",
    "#!/usr/bin/env Python\n",
    "#coding = utf-8\n",
    "\n",
    "# Create a trainer that uses this config\n",
    "trainer = Trainer(config.load(\"config_spacy.yml\"))\n",
    "\n",
    "# Load the training data\n",
    "training_data = load_data('new_year.md')\n",
    "\n",
    "# Create an interpreter by training the model\n",
    "interpreter = trainer.train(training_data)\n",
    "\n",
    "response_group = [\n",
    "    'Hi fool designer',\n",
    "    'Because my foolish designer dont know how to make me speak Chinese!',\n",
    "    '2333333',\n",
    "    'I guess this fool want me to say HAPPY NEW YEAR to all his friends!'\n",
    "]"
   ]
  },
  {
   "cell_type": "code",
   "execution_count": 6,
   "metadata": {
    "ExecuteTime": {
     "end_time": "2019-02-05T03:50:05.079339Z",
     "start_time": "2019-02-05T03:50:05.067439Z"
    }
   },
   "outputs": [],
   "source": [
    "def respond(message):\n",
    "    # Extract the entities\n",
    "    entities = interpreter.parse(message)\n",
    "    # Fill the dictionary with entities\n",
    "\n",
    "    if entities['intent']['name'] == 'greet':\n",
    "        # Return the appropriate response\n",
    "        return response_group[0]\n",
    "    elif entities['intent']['name'] == 'chinese':\n",
    "        return response_group[1]\n",
    "    elif entities['intent']['name'] == 'wordless':\n",
    "        return response_group[2]\n",
    "    elif entities['intent']['name'] == 'guess':\n",
    "        return response_group[3]\n",
    "    else:\n",
    "        return 'I cannnot understand you fool designer!'\n",
    "\n",
    "# Initialize params dictionary\n",
    "params = {}\n",
    "path = 'C:/Users/76882/Desktop/Academic ANU_2018-12-31/MIT研/Stock_Project/newyearrobot.jpg'\n",
    "path2 = 'C:/Users/76882/Desktop/Academic ANU_2018-12-31/MIT研/Stock_Project/newyearrobot2.jpg'"
   ]
  },
  {
   "cell_type": "code",
   "execution_count": 162,
   "metadata": {
    "ExecuteTime": {
     "end_time": "2019-02-05T03:35:32.157318Z",
     "start_time": "2019-02-05T03:35:32.143898Z"
    },
    "code_folding": [
     0
    ]
   },
   "outputs": [
    {
     "name": "stdout",
     "output_type": "stream",
     "text": [
      "Writing 'new_year_md' (str) to file 'new_year.md'.\n"
     ]
    }
   ],
   "source": [
    "#----------------------------------------------- Define Training Examples ---------------------------------------------------\n",
    "\n",
    "new_year_md = \"\"\"\n",
    "\n",
    "## intent:greet\n",
    "- hi fool\n",
    "- hi Fool\n",
    "- Hi fool\n",
    "\n",
    "## intent:chinese\n",
    "- hey why cant you speak chinese?\n",
    "- why cant you speak chinese?\n",
    "- hey why cant you speak Chinese?\n",
    "\n",
    "## intent:wordless\n",
    "- ...\n",
    "- [Smile][Smile][Smile]\n",
    "- ..\n",
    "\n",
    "## intent:guess\n",
    "- what do you think your designer want you to do today\n",
    "- what do you think your designer want you to do today?\n",
    "- What do you think your designer want you to do today\n",
    "\n",
    "\"\"\"\n",
    "\n",
    "%store new_year_md > new_year.md"
   ]
  },
  {
   "cell_type": "code",
   "execution_count": 11,
   "metadata": {
    "ExecuteTime": {
     "end_time": "2019-02-05T03:52:56.975008Z",
     "start_time": "2019-02-05T03:52:56.969055Z"
    }
   },
   "outputs": [
    {
     "name": "stderr",
     "output_type": "stream",
     "text": [
      "Traceback (most recent call last):\n",
      "  File \"D:\\Life_At_ANU\\COMP4650\\lib\\site-packages\\urllib3\\connection.py\", line 141, in _new_conn\n",
      "    (self.host, self.port), self.timeout, **extra_kw)\n",
      "  File \"D:\\Life_At_ANU\\COMP4650\\lib\\site-packages\\urllib3\\util\\connection.py\", line 60, in create_connection\n",
      "    for res in socket.getaddrinfo(host, port, family, socket.SOCK_STREAM):\n",
      "  File \"D:\\Life_At_ANU\\COMP4650\\lib\\socket.py\", line 745, in getaddrinfo\n",
      "    for res in _socket.getaddrinfo(host, port, family, type, proto, flags):\n",
      "socket.gaierror: [Errno 11001] getaddrinfo failed\n",
      "\n",
      "During handling of the above exception, another exception occurred:\n",
      "\n",
      "Traceback (most recent call last):\n",
      "  File \"D:\\Life_At_ANU\\COMP4650\\lib\\site-packages\\urllib3\\connectionpool.py\", line 601, in urlopen\n",
      "    chunked=chunked)\n",
      "  File \"D:\\Life_At_ANU\\COMP4650\\lib\\site-packages\\urllib3\\connectionpool.py\", line 346, in _make_request\n",
      "    self._validate_conn(conn)\n",
      "  File \"D:\\Life_At_ANU\\COMP4650\\lib\\site-packages\\urllib3\\connectionpool.py\", line 850, in _validate_conn\n",
      "    conn.connect()\n",
      "  File \"D:\\Life_At_ANU\\COMP4650\\lib\\site-packages\\urllib3\\connection.py\", line 284, in connect\n",
      "    conn = self._new_conn()\n",
      "  File \"D:\\Life_At_ANU\\COMP4650\\lib\\site-packages\\urllib3\\connection.py\", line 150, in _new_conn\n",
      "    self, \"Failed to establish a new connection: %s\" % e)\n",
      "urllib3.exceptions.NewConnectionError: <urllib3.connection.VerifiedHTTPSConnection object at 0x000002AF29B78860>: Failed to establish a new connection: [Errno 11001] getaddrinfo failed\n",
      "\n",
      "During handling of the above exception, another exception occurred:\n",
      "\n",
      "Traceback (most recent call last):\n",
      "  File \"D:\\Life_At_ANU\\COMP4650\\lib\\site-packages\\requests\\adapters.py\", line 440, in send\n",
      "    timeout=timeout\n",
      "  File \"D:\\Life_At_ANU\\COMP4650\\lib\\site-packages\\urllib3\\connectionpool.py\", line 668, in urlopen\n",
      "    **response_kw)\n",
      "  File \"D:\\Life_At_ANU\\COMP4650\\lib\\site-packages\\urllib3\\connectionpool.py\", line 668, in urlopen\n",
      "    **response_kw)\n",
      "  File \"D:\\Life_At_ANU\\COMP4650\\lib\\site-packages\\urllib3\\connectionpool.py\", line 668, in urlopen\n",
      "    **response_kw)\n",
      "  [Previous line repeated 26 more times]\n",
      "  File \"D:\\Life_At_ANU\\COMP4650\\lib\\site-packages\\urllib3\\connectionpool.py\", line 639, in urlopen\n",
      "    _stacktrace=sys.exc_info()[2])\n",
      "  File \"D:\\Life_At_ANU\\COMP4650\\lib\\site-packages\\urllib3\\util\\retry.py\", line 388, in increment\n",
      "    raise MaxRetryError(_pool, url, error or ResponseError(cause))\n",
      "urllib3.exceptions.MaxRetryError: HTTPSConnectionPool(host='webpush.wx.qq.com', port=443): Max retries exceeded with url: /cgi-bin/mmwebwx-bin/synccheck?r=1549339243928&skey=%40crypt_26faaea2_6b475aa45740199a9fdc5102ae6ae709&sid=FjgPg7FWVrmYNiEL&uin=1335048710&deviceid=e879659039815993&synckey=1_687860331%7C2_687860402%7C3_687860306%7C11_687860073%7C201_1549339165%7C1000_1549326722%7C1001_1549326795%7C1002_1549277948&_=1549338523690 (Caused by NewConnectionError('<urllib3.connection.VerifiedHTTPSConnection object at 0x000002AF29B78860>: Failed to establish a new connection: [Errno 11001] getaddrinfo failed',))\n",
      "\n",
      "During handling of the above exception, another exception occurred:\n",
      "\n",
      "Traceback (most recent call last):\n",
      "  File \"D:\\Life_At_ANU\\COMP4650\\lib\\site-packages\\itchat\\components\\login.py\", line 231, in maintain_loop\n",
      "    i = sync_check(self)\n",
      "  File \"D:\\Life_At_ANU\\COMP4650\\lib\\site-packages\\itchat\\components\\login.py\", line 283, in sync_check\n",
      "    r = self.s.get(url, params=params, headers=headers)\n",
      "  File \"D:\\Life_At_ANU\\COMP4650\\lib\\site-packages\\requests\\sessions.py\", line 521, in get\n",
      "    return self.request('GET', url, **kwargs)\n",
      "  File \"D:\\Life_At_ANU\\COMP4650\\lib\\site-packages\\wxpy\\utils\\misc.py\", line 351, in customized_request\n",
      "    return requests.Session.request(session, method, url, **kwargs)\n",
      "  File \"D:\\Life_At_ANU\\COMP4650\\lib\\site-packages\\requests\\sessions.py\", line 508, in request\n",
      "    resp = self.send(prep, **send_kwargs)\n",
      "  File \"D:\\Life_At_ANU\\COMP4650\\lib\\site-packages\\requests\\sessions.py\", line 618, in send\n",
      "    r = adapter.send(request, **kwargs)\n",
      "  File \"D:\\Life_At_ANU\\COMP4650\\lib\\site-packages\\requests\\adapters.py\", line 508, in send\n",
      "    raise ConnectionError(e, request=request)\n",
      "requests.exceptions.ConnectionError: HTTPSConnectionPool(host='webpush.wx.qq.com', port=443): Max retries exceeded with url: /cgi-bin/mmwebwx-bin/synccheck?r=1549339243928&skey=%40crypt_26faaea2_6b475aa45740199a9fdc5102ae6ae709&sid=FjgPg7FWVrmYNiEL&uin=1335048710&deviceid=e879659039815993&synckey=1_687860331%7C2_687860402%7C3_687860306%7C11_687860073%7C201_1549339165%7C1000_1549326722%7C1001_1549326795%7C1002_1549277948&_=1549338523690 (Caused by NewConnectionError('<urllib3.connection.VerifiedHTTPSConnection object at 0x000002AF29B78860>: Failed to establish a new connection: [Errno 11001] getaddrinfo failed',))\n",
      "\n",
      "Traceback (most recent call last):\n",
      "  File \"D:\\Life_At_ANU\\COMP4650\\lib\\site-packages\\urllib3\\connection.py\", line 141, in _new_conn\n",
      "    (self.host, self.port), self.timeout, **extra_kw)\n",
      "  File \"D:\\Life_At_ANU\\COMP4650\\lib\\site-packages\\urllib3\\util\\connection.py\", line 60, in create_connection\n",
      "    for res in socket.getaddrinfo(host, port, family, socket.SOCK_STREAM):\n",
      "  File \"D:\\Life_At_ANU\\COMP4650\\lib\\socket.py\", line 745, in getaddrinfo\n",
      "    for res in _socket.getaddrinfo(host, port, family, type, proto, flags):\n",
      "socket.gaierror: [Errno 11001] getaddrinfo failed\n",
      "\n",
      "During handling of the above exception, another exception occurred:\n",
      "\n",
      "Traceback (most recent call last):\n",
      "  File \"D:\\Life_At_ANU\\COMP4650\\lib\\site-packages\\urllib3\\connectionpool.py\", line 601, in urlopen\n",
      "    chunked=chunked)\n",
      "  File \"D:\\Life_At_ANU\\COMP4650\\lib\\site-packages\\urllib3\\connectionpool.py\", line 346, in _make_request\n",
      "    self._validate_conn(conn)\n",
      "  File \"D:\\Life_At_ANU\\COMP4650\\lib\\site-packages\\urllib3\\connectionpool.py\", line 850, in _validate_conn\n",
      "    conn.connect()\n",
      "  File \"D:\\Life_At_ANU\\COMP4650\\lib\\site-packages\\urllib3\\connection.py\", line 284, in connect\n",
      "    conn = self._new_conn()\n",
      "  File \"D:\\Life_At_ANU\\COMP4650\\lib\\site-packages\\urllib3\\connection.py\", line 150, in _new_conn\n",
      "    self, \"Failed to establish a new connection: %s\" % e)\n",
      "urllib3.exceptions.NewConnectionError: <urllib3.connection.VerifiedHTTPSConnection object at 0x000002AF29BAF7B8>: Failed to establish a new connection: [Errno 11001] getaddrinfo failed\n",
      "\n",
      "During handling of the above exception, another exception occurred:\n",
      "\n",
      "Traceback (most recent call last):\n",
      "  File \"D:\\Life_At_ANU\\COMP4650\\lib\\site-packages\\requests\\adapters.py\", line 440, in send\n",
      "    timeout=timeout\n",
      "  File \"D:\\Life_At_ANU\\COMP4650\\lib\\site-packages\\urllib3\\connectionpool.py\", line 668, in urlopen\n",
      "    **response_kw)\n",
      "  File \"D:\\Life_At_ANU\\COMP4650\\lib\\site-packages\\urllib3\\connectionpool.py\", line 668, in urlopen\n",
      "    **response_kw)\n",
      "  File \"D:\\Life_At_ANU\\COMP4650\\lib\\site-packages\\urllib3\\connectionpool.py\", line 668, in urlopen\n",
      "    **response_kw)\n",
      "  [Previous line repeated 26 more times]\n",
      "  File \"D:\\Life_At_ANU\\COMP4650\\lib\\site-packages\\urllib3\\connectionpool.py\", line 639, in urlopen\n",
      "    _stacktrace=sys.exc_info()[2])\n",
      "  File \"D:\\Life_At_ANU\\COMP4650\\lib\\site-packages\\urllib3\\util\\retry.py\", line 388, in increment\n",
      "    raise MaxRetryError(_pool, url, error or ResponseError(cause))\n",
      "urllib3.exceptions.MaxRetryError: HTTPSConnectionPool(host='webpush.wx.qq.com', port=443): Max retries exceeded with url: /cgi-bin/mmwebwx-bin/synccheck?r=1549339285260&skey=%40crypt_26faaea2_6b475aa45740199a9fdc5102ae6ae709&sid=FjgPg7FWVrmYNiEL&uin=1335048710&deviceid=e399563958514130&synckey=1_687860331%7C2_687860402%7C3_687860306%7C11_687860073%7C201_1549339165%7C1000_1549326722%7C1001_1549326795%7C1002_1549277948&_=1549338523691 (Caused by NewConnectionError('<urllib3.connection.VerifiedHTTPSConnection object at 0x000002AF29BAF7B8>: Failed to establish a new connection: [Errno 11001] getaddrinfo failed',))\n",
      "\n",
      "During handling of the above exception, another exception occurred:\n",
      "\n",
      "Traceback (most recent call last):\n",
      "  File \"D:\\Life_At_ANU\\COMP4650\\lib\\site-packages\\itchat\\components\\login.py\", line 231, in maintain_loop\n",
      "    i = sync_check(self)\n",
      "  File \"D:\\Life_At_ANU\\COMP4650\\lib\\site-packages\\itchat\\components\\login.py\", line 283, in sync_check\n",
      "    r = self.s.get(url, params=params, headers=headers)\n",
      "  File \"D:\\Life_At_ANU\\COMP4650\\lib\\site-packages\\requests\\sessions.py\", line 521, in get\n",
      "    return self.request('GET', url, **kwargs)\n",
      "  File \"D:\\Life_At_ANU\\COMP4650\\lib\\site-packages\\wxpy\\utils\\misc.py\", line 351, in customized_request\n",
      "    return requests.Session.request(session, method, url, **kwargs)\n",
      "  File \"D:\\Life_At_ANU\\COMP4650\\lib\\site-packages\\requests\\sessions.py\", line 508, in request\n",
      "    resp = self.send(prep, **send_kwargs)\n",
      "  File \"D:\\Life_At_ANU\\COMP4650\\lib\\site-packages\\requests\\sessions.py\", line 618, in send\n",
      "    r = adapter.send(request, **kwargs)\n",
      "  File \"D:\\Life_At_ANU\\COMP4650\\lib\\site-packages\\requests\\adapters.py\", line 508, in send\n",
      "    raise ConnectionError(e, request=request)\n",
      "requests.exceptions.ConnectionError: HTTPSConnectionPool(host='webpush.wx.qq.com', port=443): Max retries exceeded with url: /cgi-bin/mmwebwx-bin/synccheck?r=1549339285260&skey=%40crypt_26faaea2_6b475aa45740199a9fdc5102ae6ae709&sid=FjgPg7FWVrmYNiEL&uin=1335048710&deviceid=e399563958514130&synckey=1_687860331%7C2_687860402%7C3_687860306%7C11_687860073%7C201_1549339165%7C1000_1549326722%7C1001_1549326795%7C1002_1549277948&_=1549338523691 (Caused by NewConnectionError('<urllib3.connection.VerifiedHTTPSConnection object at 0x000002AF29BAF7B8>: Failed to establish a new connection: [Errno 11001] getaddrinfo failed',))\n",
      "\n"
     ]
    },
    {
     "name": "stderr",
     "output_type": "stream",
     "text": [
      "Traceback (most recent call last):\n",
      "  File \"D:\\Life_At_ANU\\COMP4650\\lib\\site-packages\\urllib3\\connection.py\", line 141, in _new_conn\n",
      "    (self.host, self.port), self.timeout, **extra_kw)\n",
      "  File \"D:\\Life_At_ANU\\COMP4650\\lib\\site-packages\\urllib3\\util\\connection.py\", line 60, in create_connection\n",
      "    for res in socket.getaddrinfo(host, port, family, socket.SOCK_STREAM):\n",
      "  File \"D:\\Life_At_ANU\\COMP4650\\lib\\socket.py\", line 745, in getaddrinfo\n",
      "    for res in _socket.getaddrinfo(host, port, family, type, proto, flags):\n",
      "socket.gaierror: [Errno 11001] getaddrinfo failed\n",
      "\n",
      "During handling of the above exception, another exception occurred:\n",
      "\n",
      "Traceback (most recent call last):\n",
      "  File \"D:\\Life_At_ANU\\COMP4650\\lib\\site-packages\\urllib3\\connectionpool.py\", line 601, in urlopen\n",
      "    chunked=chunked)\n",
      "  File \"D:\\Life_At_ANU\\COMP4650\\lib\\site-packages\\urllib3\\connectionpool.py\", line 346, in _make_request\n",
      "    self._validate_conn(conn)\n",
      "  File \"D:\\Life_At_ANU\\COMP4650\\lib\\site-packages\\urllib3\\connectionpool.py\", line 850, in _validate_conn\n",
      "    conn.connect()\n",
      "  File \"D:\\Life_At_ANU\\COMP4650\\lib\\site-packages\\urllib3\\connection.py\", line 284, in connect\n",
      "    conn = self._new_conn()\n",
      "  File \"D:\\Life_At_ANU\\COMP4650\\lib\\site-packages\\urllib3\\connection.py\", line 150, in _new_conn\n",
      "    self, \"Failed to establish a new connection: %s\" % e)\n",
      "urllib3.exceptions.NewConnectionError: <urllib3.connection.VerifiedHTTPSConnection object at 0x000002AF29BCA390>: Failed to establish a new connection: [Errno 11001] getaddrinfo failed\n",
      "\n",
      "During handling of the above exception, another exception occurred:\n",
      "\n",
      "Traceback (most recent call last):\n",
      "  File \"D:\\Life_At_ANU\\COMP4650\\lib\\site-packages\\requests\\adapters.py\", line 440, in send\n",
      "    timeout=timeout\n",
      "  File \"D:\\Life_At_ANU\\COMP4650\\lib\\site-packages\\urllib3\\connectionpool.py\", line 668, in urlopen\n",
      "    **response_kw)\n",
      "  File \"D:\\Life_At_ANU\\COMP4650\\lib\\site-packages\\urllib3\\connectionpool.py\", line 668, in urlopen\n",
      "    **response_kw)\n",
      "  File \"D:\\Life_At_ANU\\COMP4650\\lib\\site-packages\\urllib3\\connectionpool.py\", line 668, in urlopen\n",
      "    **response_kw)\n",
      "  [Previous line repeated 26 more times]\n",
      "  File \"D:\\Life_At_ANU\\COMP4650\\lib\\site-packages\\urllib3\\connectionpool.py\", line 639, in urlopen\n",
      "    _stacktrace=sys.exc_info()[2])\n",
      "  File \"D:\\Life_At_ANU\\COMP4650\\lib\\site-packages\\urllib3\\util\\retry.py\", line 388, in increment\n",
      "    raise MaxRetryError(_pool, url, error or ResponseError(cause))\n",
      "urllib3.exceptions.MaxRetryError: HTTPSConnectionPool(host='webpush.wx.qq.com', port=443): Max retries exceeded with url: /cgi-bin/mmwebwx-bin/synccheck?r=1549339286291&skey=%40crypt_26faaea2_6b475aa45740199a9fdc5102ae6ae709&sid=FjgPg7FWVrmYNiEL&uin=1335048710&deviceid=e001891164874795&synckey=1_687860331%7C2_687860402%7C3_687860306%7C11_687860073%7C201_1549339165%7C1000_1549326722%7C1001_1549326795%7C1002_1549277948&_=1549338523692 (Caused by NewConnectionError('<urllib3.connection.VerifiedHTTPSConnection object at 0x000002AF29BCA390>: Failed to establish a new connection: [Errno 11001] getaddrinfo failed',))\n",
      "\n",
      "During handling of the above exception, another exception occurred:\n",
      "\n",
      "Traceback (most recent call last):\n",
      "  File \"D:\\Life_At_ANU\\COMP4650\\lib\\site-packages\\itchat\\components\\login.py\", line 231, in maintain_loop\n",
      "    i = sync_check(self)\n",
      "  File \"D:\\Life_At_ANU\\COMP4650\\lib\\site-packages\\itchat\\components\\login.py\", line 283, in sync_check\n",
      "    r = self.s.get(url, params=params, headers=headers)\n",
      "  File \"D:\\Life_At_ANU\\COMP4650\\lib\\site-packages\\requests\\sessions.py\", line 521, in get\n",
      "    return self.request('GET', url, **kwargs)\n",
      "  File \"D:\\Life_At_ANU\\COMP4650\\lib\\site-packages\\wxpy\\utils\\misc.py\", line 351, in customized_request\n",
      "    return requests.Session.request(session, method, url, **kwargs)\n",
      "  File \"D:\\Life_At_ANU\\COMP4650\\lib\\site-packages\\requests\\sessions.py\", line 508, in request\n",
      "    resp = self.send(prep, **send_kwargs)\n",
      "  File \"D:\\Life_At_ANU\\COMP4650\\lib\\site-packages\\requests\\sessions.py\", line 618, in send\n",
      "    r = adapter.send(request, **kwargs)\n",
      "  File \"D:\\Life_At_ANU\\COMP4650\\lib\\site-packages\\requests\\adapters.py\", line 508, in send\n",
      "    raise ConnectionError(e, request=request)\n",
      "requests.exceptions.ConnectionError: HTTPSConnectionPool(host='webpush.wx.qq.com', port=443): Max retries exceeded with url: /cgi-bin/mmwebwx-bin/synccheck?r=1549339286291&skey=%40crypt_26faaea2_6b475aa45740199a9fdc5102ae6ae709&sid=FjgPg7FWVrmYNiEL&uin=1335048710&deviceid=e001891164874795&synckey=1_687860331%7C2_687860402%7C3_687860306%7C11_687860073%7C201_1549339165%7C1000_1549326722%7C1001_1549326795%7C1002_1549277948&_=1549338523692 (Caused by NewConnectionError('<urllib3.connection.VerifiedHTTPSConnection object at 0x000002AF29BCA390>: Failed to establish a new connection: [Errno 11001] getaddrinfo failed',))\n",
      "\n",
      "Traceback (most recent call last):\n",
      "  File \"D:\\Life_At_ANU\\COMP4650\\lib\\site-packages\\urllib3\\connection.py\", line 141, in _new_conn\n",
      "    (self.host, self.port), self.timeout, **extra_kw)\n",
      "  File \"D:\\Life_At_ANU\\COMP4650\\lib\\site-packages\\urllib3\\util\\connection.py\", line 60, in create_connection\n",
      "    for res in socket.getaddrinfo(host, port, family, socket.SOCK_STREAM):\n",
      "  File \"D:\\Life_At_ANU\\COMP4650\\lib\\socket.py\", line 745, in getaddrinfo\n",
      "    for res in _socket.getaddrinfo(host, port, family, type, proto, flags):\n",
      "socket.gaierror: [Errno 11001] getaddrinfo failed\n",
      "\n",
      "During handling of the above exception, another exception occurred:\n",
      "\n",
      "Traceback (most recent call last):\n",
      "  File \"D:\\Life_At_ANU\\COMP4650\\lib\\site-packages\\urllib3\\connectionpool.py\", line 601, in urlopen\n",
      "    chunked=chunked)\n",
      "  File \"D:\\Life_At_ANU\\COMP4650\\lib\\site-packages\\urllib3\\connectionpool.py\", line 346, in _make_request\n",
      "    self._validate_conn(conn)\n",
      "  File \"D:\\Life_At_ANU\\COMP4650\\lib\\site-packages\\urllib3\\connectionpool.py\", line 850, in _validate_conn\n",
      "    conn.connect()\n",
      "  File \"D:\\Life_At_ANU\\COMP4650\\lib\\site-packages\\urllib3\\connection.py\", line 284, in connect\n",
      "    conn = self._new_conn()\n",
      "  File \"D:\\Life_At_ANU\\COMP4650\\lib\\site-packages\\urllib3\\connection.py\", line 150, in _new_conn\n",
      "    self, \"Failed to establish a new connection: %s\" % e)\n",
      "urllib3.exceptions.NewConnectionError: <urllib3.connection.VerifiedHTTPSConnection object at 0x000002AF29BE8940>: Failed to establish a new connection: [Errno 11001] getaddrinfo failed\n",
      "\n",
      "During handling of the above exception, another exception occurred:\n",
      "\n",
      "Traceback (most recent call last):\n",
      "  File \"D:\\Life_At_ANU\\COMP4650\\lib\\site-packages\\requests\\adapters.py\", line 440, in send\n",
      "    timeout=timeout\n",
      "  File \"D:\\Life_At_ANU\\COMP4650\\lib\\site-packages\\urllib3\\connectionpool.py\", line 668, in urlopen\n",
      "    **response_kw)\n",
      "  File \"D:\\Life_At_ANU\\COMP4650\\lib\\site-packages\\urllib3\\connectionpool.py\", line 668, in urlopen\n",
      "    **response_kw)\n",
      "  File \"D:\\Life_At_ANU\\COMP4650\\lib\\site-packages\\urllib3\\connectionpool.py\", line 668, in urlopen\n",
      "    **response_kw)\n",
      "  [Previous line repeated 26 more times]\n",
      "  File \"D:\\Life_At_ANU\\COMP4650\\lib\\site-packages\\urllib3\\connectionpool.py\", line 639, in urlopen\n",
      "    _stacktrace=sys.exc_info()[2])\n",
      "  File \"D:\\Life_At_ANU\\COMP4650\\lib\\site-packages\\urllib3\\util\\retry.py\", line 388, in increment\n",
      "    raise MaxRetryError(_pool, url, error or ResponseError(cause))\n",
      "urllib3.exceptions.MaxRetryError: HTTPSConnectionPool(host='webpush.wx.qq.com', port=443): Max retries exceeded with url: /cgi-bin/mmwebwx-bin/synccheck?r=1549339287320&skey=%40crypt_26faaea2_6b475aa45740199a9fdc5102ae6ae709&sid=FjgPg7FWVrmYNiEL&uin=1335048710&deviceid=e727199527739791&synckey=1_687860331%7C2_687860402%7C3_687860306%7C11_687860073%7C201_1549339165%7C1000_1549326722%7C1001_1549326795%7C1002_1549277948&_=1549338523693 (Caused by NewConnectionError('<urllib3.connection.VerifiedHTTPSConnection object at 0x000002AF29BE8940>: Failed to establish a new connection: [Errno 11001] getaddrinfo failed',))\n",
      "\n",
      "During handling of the above exception, another exception occurred:\n",
      "\n",
      "Traceback (most recent call last):\n",
      "  File \"D:\\Life_At_ANU\\COMP4650\\lib\\site-packages\\itchat\\components\\login.py\", line 231, in maintain_loop\n",
      "    i = sync_check(self)\n",
      "  File \"D:\\Life_At_ANU\\COMP4650\\lib\\site-packages\\itchat\\components\\login.py\", line 283, in sync_check\n",
      "    r = self.s.get(url, params=params, headers=headers)\n",
      "  File \"D:\\Life_At_ANU\\COMP4650\\lib\\site-packages\\requests\\sessions.py\", line 521, in get\n",
      "    return self.request('GET', url, **kwargs)\n",
      "  File \"D:\\Life_At_ANU\\COMP4650\\lib\\site-packages\\wxpy\\utils\\misc.py\", line 351, in customized_request\n",
      "    return requests.Session.request(session, method, url, **kwargs)\n",
      "  File \"D:\\Life_At_ANU\\COMP4650\\lib\\site-packages\\requests\\sessions.py\", line 508, in request\n",
      "    resp = self.send(prep, **send_kwargs)\n",
      "  File \"D:\\Life_At_ANU\\COMP4650\\lib\\site-packages\\requests\\sessions.py\", line 618, in send\n",
      "    r = adapter.send(request, **kwargs)\n",
      "  File \"D:\\Life_At_ANU\\COMP4650\\lib\\site-packages\\requests\\adapters.py\", line 508, in send\n",
      "    raise ConnectionError(e, request=request)\n",
      "requests.exceptions.ConnectionError: HTTPSConnectionPool(host='webpush.wx.qq.com', port=443): Max retries exceeded with url: /cgi-bin/mmwebwx-bin/synccheck?r=1549339287320&skey=%40crypt_26faaea2_6b475aa45740199a9fdc5102ae6ae709&sid=FjgPg7FWVrmYNiEL&uin=1335048710&deviceid=e727199527739791&synckey=1_687860331%7C2_687860402%7C3_687860306%7C11_687860073%7C201_1549339165%7C1000_1549326722%7C1001_1549326795%7C1002_1549277948&_=1549338523693 (Caused by NewConnectionError('<urllib3.connection.VerifiedHTTPSConnection object at 0x000002AF29BE8940>: Failed to establish a new connection: [Errno 11001] getaddrinfo failed',))\n",
      "\n"
     ]
    },
    {
     "name": "stderr",
     "output_type": "stream",
     "text": [
      "Traceback (most recent call last):\n",
      "  File \"D:\\Life_At_ANU\\COMP4650\\lib\\site-packages\\urllib3\\connection.py\", line 141, in _new_conn\n",
      "    (self.host, self.port), self.timeout, **extra_kw)\n",
      "  File \"D:\\Life_At_ANU\\COMP4650\\lib\\site-packages\\urllib3\\util\\connection.py\", line 60, in create_connection\n",
      "    for res in socket.getaddrinfo(host, port, family, socket.SOCK_STREAM):\n",
      "  File \"D:\\Life_At_ANU\\COMP4650\\lib\\socket.py\", line 745, in getaddrinfo\n",
      "    for res in _socket.getaddrinfo(host, port, family, type, proto, flags):\n",
      "socket.gaierror: [Errno 11001] getaddrinfo failed\n",
      "\n",
      "During handling of the above exception, another exception occurred:\n",
      "\n",
      "Traceback (most recent call last):\n",
      "  File \"D:\\Life_At_ANU\\COMP4650\\lib\\site-packages\\urllib3\\connectionpool.py\", line 601, in urlopen\n",
      "    chunked=chunked)\n",
      "  File \"D:\\Life_At_ANU\\COMP4650\\lib\\site-packages\\urllib3\\connectionpool.py\", line 346, in _make_request\n",
      "    self._validate_conn(conn)\n",
      "  File \"D:\\Life_At_ANU\\COMP4650\\lib\\site-packages\\urllib3\\connectionpool.py\", line 850, in _validate_conn\n",
      "    conn.connect()\n",
      "  File \"D:\\Life_At_ANU\\COMP4650\\lib\\site-packages\\urllib3\\connection.py\", line 284, in connect\n",
      "    conn = self._new_conn()\n",
      "  File \"D:\\Life_At_ANU\\COMP4650\\lib\\site-packages\\urllib3\\connection.py\", line 150, in _new_conn\n",
      "    self, \"Failed to establish a new connection: %s\" % e)\n",
      "urllib3.exceptions.NewConnectionError: <urllib3.connection.VerifiedHTTPSConnection object at 0x000002AF29C06400>: Failed to establish a new connection: [Errno 11001] getaddrinfo failed\n",
      "\n",
      "During handling of the above exception, another exception occurred:\n",
      "\n",
      "Traceback (most recent call last):\n",
      "  File \"D:\\Life_At_ANU\\COMP4650\\lib\\site-packages\\requests\\adapters.py\", line 440, in send\n",
      "    timeout=timeout\n",
      "  File \"D:\\Life_At_ANU\\COMP4650\\lib\\site-packages\\urllib3\\connectionpool.py\", line 668, in urlopen\n",
      "    **response_kw)\n",
      "  File \"D:\\Life_At_ANU\\COMP4650\\lib\\site-packages\\urllib3\\connectionpool.py\", line 668, in urlopen\n",
      "    **response_kw)\n",
      "  File \"D:\\Life_At_ANU\\COMP4650\\lib\\site-packages\\urllib3\\connectionpool.py\", line 668, in urlopen\n",
      "    **response_kw)\n",
      "  [Previous line repeated 26 more times]\n",
      "  File \"D:\\Life_At_ANU\\COMP4650\\lib\\site-packages\\urllib3\\connectionpool.py\", line 639, in urlopen\n",
      "    _stacktrace=sys.exc_info()[2])\n",
      "  File \"D:\\Life_At_ANU\\COMP4650\\lib\\site-packages\\urllib3\\util\\retry.py\", line 388, in increment\n",
      "    raise MaxRetryError(_pool, url, error or ResponseError(cause))\n",
      "urllib3.exceptions.MaxRetryError: HTTPSConnectionPool(host='webpush.wx.qq.com', port=443): Max retries exceeded with url: /cgi-bin/mmwebwx-bin/synccheck?r=1549339288351&skey=%40crypt_26faaea2_6b475aa45740199a9fdc5102ae6ae709&sid=FjgPg7FWVrmYNiEL&uin=1335048710&deviceid=e680253488854623&synckey=1_687860331%7C2_687860402%7C3_687860306%7C11_687860073%7C201_1549339165%7C1000_1549326722%7C1001_1549326795%7C1002_1549277948&_=1549338523694 (Caused by NewConnectionError('<urllib3.connection.VerifiedHTTPSConnection object at 0x000002AF29C06400>: Failed to establish a new connection: [Errno 11001] getaddrinfo failed',))\n",
      "\n",
      "During handling of the above exception, another exception occurred:\n",
      "\n",
      "Traceback (most recent call last):\n",
      "  File \"D:\\Life_At_ANU\\COMP4650\\lib\\site-packages\\itchat\\components\\login.py\", line 231, in maintain_loop\n",
      "    i = sync_check(self)\n",
      "  File \"D:\\Life_At_ANU\\COMP4650\\lib\\site-packages\\itchat\\components\\login.py\", line 283, in sync_check\n",
      "    r = self.s.get(url, params=params, headers=headers)\n",
      "  File \"D:\\Life_At_ANU\\COMP4650\\lib\\site-packages\\requests\\sessions.py\", line 521, in get\n",
      "    return self.request('GET', url, **kwargs)\n",
      "  File \"D:\\Life_At_ANU\\COMP4650\\lib\\site-packages\\wxpy\\utils\\misc.py\", line 351, in customized_request\n",
      "    return requests.Session.request(session, method, url, **kwargs)\n",
      "  File \"D:\\Life_At_ANU\\COMP4650\\lib\\site-packages\\requests\\sessions.py\", line 508, in request\n",
      "    resp = self.send(prep, **send_kwargs)\n",
      "  File \"D:\\Life_At_ANU\\COMP4650\\lib\\site-packages\\requests\\sessions.py\", line 618, in send\n",
      "    r = adapter.send(request, **kwargs)\n",
      "  File \"D:\\Life_At_ANU\\COMP4650\\lib\\site-packages\\requests\\adapters.py\", line 508, in send\n",
      "    raise ConnectionError(e, request=request)\n",
      "requests.exceptions.ConnectionError: HTTPSConnectionPool(host='webpush.wx.qq.com', port=443): Max retries exceeded with url: /cgi-bin/mmwebwx-bin/synccheck?r=1549339288351&skey=%40crypt_26faaea2_6b475aa45740199a9fdc5102ae6ae709&sid=FjgPg7FWVrmYNiEL&uin=1335048710&deviceid=e680253488854623&synckey=1_687860331%7C2_687860402%7C3_687860306%7C11_687860073%7C201_1549339165%7C1000_1549326722%7C1001_1549326795%7C1002_1549277948&_=1549338523694 (Caused by NewConnectionError('<urllib3.connection.VerifiedHTTPSConnection object at 0x000002AF29C06400>: Failed to establish a new connection: [Errno 11001] getaddrinfo failed',))\n",
      "\n",
      "Traceback (most recent call last):\n",
      "  File \"D:\\Life_At_ANU\\COMP4650\\lib\\site-packages\\urllib3\\connection.py\", line 141, in _new_conn\n",
      "    (self.host, self.port), self.timeout, **extra_kw)\n",
      "  File \"D:\\Life_At_ANU\\COMP4650\\lib\\site-packages\\urllib3\\util\\connection.py\", line 60, in create_connection\n",
      "    for res in socket.getaddrinfo(host, port, family, socket.SOCK_STREAM):\n",
      "  File \"D:\\Life_At_ANU\\COMP4650\\lib\\socket.py\", line 745, in getaddrinfo\n",
      "    for res in _socket.getaddrinfo(host, port, family, type, proto, flags):\n",
      "socket.gaierror: [Errno 11001] getaddrinfo failed\n",
      "\n",
      "During handling of the above exception, another exception occurred:\n",
      "\n",
      "Traceback (most recent call last):\n",
      "  File \"D:\\Life_At_ANU\\COMP4650\\lib\\site-packages\\urllib3\\connectionpool.py\", line 601, in urlopen\n",
      "    chunked=chunked)\n",
      "  File \"D:\\Life_At_ANU\\COMP4650\\lib\\site-packages\\urllib3\\connectionpool.py\", line 346, in _make_request\n",
      "    self._validate_conn(conn)\n",
      "  File \"D:\\Life_At_ANU\\COMP4650\\lib\\site-packages\\urllib3\\connectionpool.py\", line 850, in _validate_conn\n",
      "    conn.connect()\n",
      "  File \"D:\\Life_At_ANU\\COMP4650\\lib\\site-packages\\urllib3\\connection.py\", line 284, in connect\n",
      "    conn = self._new_conn()\n",
      "  File \"D:\\Life_At_ANU\\COMP4650\\lib\\site-packages\\urllib3\\connection.py\", line 150, in _new_conn\n",
      "    self, \"Failed to establish a new connection: %s\" % e)\n",
      "urllib3.exceptions.NewConnectionError: <urllib3.connection.VerifiedHTTPSConnection object at 0x000002AF29C229B0>: Failed to establish a new connection: [Errno 11001] getaddrinfo failed\n",
      "\n",
      "During handling of the above exception, another exception occurred:\n",
      "\n",
      "Traceback (most recent call last):\n",
      "  File \"D:\\Life_At_ANU\\COMP4650\\lib\\site-packages\\requests\\adapters.py\", line 440, in send\n",
      "    timeout=timeout\n",
      "  File \"D:\\Life_At_ANU\\COMP4650\\lib\\site-packages\\urllib3\\connectionpool.py\", line 668, in urlopen\n",
      "    **response_kw)\n",
      "  File \"D:\\Life_At_ANU\\COMP4650\\lib\\site-packages\\urllib3\\connectionpool.py\", line 668, in urlopen\n",
      "    **response_kw)\n",
      "  File \"D:\\Life_At_ANU\\COMP4650\\lib\\site-packages\\urllib3\\connectionpool.py\", line 668, in urlopen\n",
      "    **response_kw)\n",
      "  [Previous line repeated 26 more times]\n",
      "  File \"D:\\Life_At_ANU\\COMP4650\\lib\\site-packages\\urllib3\\connectionpool.py\", line 639, in urlopen\n",
      "    _stacktrace=sys.exc_info()[2])\n",
      "  File \"D:\\Life_At_ANU\\COMP4650\\lib\\site-packages\\urllib3\\util\\retry.py\", line 388, in increment\n",
      "    raise MaxRetryError(_pool, url, error or ResponseError(cause))\n",
      "urllib3.exceptions.MaxRetryError: HTTPSConnectionPool(host='webpush.wx.qq.com', port=443): Max retries exceeded with url: /cgi-bin/mmwebwx-bin/synccheck?r=1549339289381&skey=%40crypt_26faaea2_6b475aa45740199a9fdc5102ae6ae709&sid=FjgPg7FWVrmYNiEL&uin=1335048710&deviceid=e726165133658972&synckey=1_687860331%7C2_687860402%7C3_687860306%7C11_687860073%7C201_1549339165%7C1000_1549326722%7C1001_1549326795%7C1002_1549277948&_=1549338523695 (Caused by NewConnectionError('<urllib3.connection.VerifiedHTTPSConnection object at 0x000002AF29C229B0>: Failed to establish a new connection: [Errno 11001] getaddrinfo failed',))\n",
      "\n",
      "During handling of the above exception, another exception occurred:\n",
      "\n",
      "Traceback (most recent call last):\n",
      "  File \"D:\\Life_At_ANU\\COMP4650\\lib\\site-packages\\itchat\\components\\login.py\", line 231, in maintain_loop\n",
      "    i = sync_check(self)\n",
      "  File \"D:\\Life_At_ANU\\COMP4650\\lib\\site-packages\\itchat\\components\\login.py\", line 283, in sync_check\n",
      "    r = self.s.get(url, params=params, headers=headers)\n",
      "  File \"D:\\Life_At_ANU\\COMP4650\\lib\\site-packages\\requests\\sessions.py\", line 521, in get\n",
      "    return self.request('GET', url, **kwargs)\n",
      "  File \"D:\\Life_At_ANU\\COMP4650\\lib\\site-packages\\wxpy\\utils\\misc.py\", line 351, in customized_request\n",
      "    return requests.Session.request(session, method, url, **kwargs)\n",
      "  File \"D:\\Life_At_ANU\\COMP4650\\lib\\site-packages\\requests\\sessions.py\", line 508, in request\n",
      "    resp = self.send(prep, **send_kwargs)\n",
      "  File \"D:\\Life_At_ANU\\COMP4650\\lib\\site-packages\\requests\\sessions.py\", line 618, in send\n",
      "    r = adapter.send(request, **kwargs)\n",
      "  File \"D:\\Life_At_ANU\\COMP4650\\lib\\site-packages\\requests\\adapters.py\", line 508, in send\n",
      "    raise ConnectionError(e, request=request)\n",
      "requests.exceptions.ConnectionError: HTTPSConnectionPool(host='webpush.wx.qq.com', port=443): Max retries exceeded with url: /cgi-bin/mmwebwx-bin/synccheck?r=1549339289381&skey=%40crypt_26faaea2_6b475aa45740199a9fdc5102ae6ae709&sid=FjgPg7FWVrmYNiEL&uin=1335048710&deviceid=e726165133658972&synckey=1_687860331%7C2_687860402%7C3_687860306%7C11_687860073%7C201_1549339165%7C1000_1549326722%7C1001_1549326795%7C1002_1549277948&_=1549338523695 (Caused by NewConnectionError('<urllib3.connection.VerifiedHTTPSConnection object at 0x000002AF29C229B0>: Failed to establish a new connection: [Errno 11001] getaddrinfo failed',))\n",
      "\n"
     ]
    },
    {
     "name": "stderr",
     "output_type": "stream",
     "text": [
      "LOG OUT!\n"
     ]
    }
   ],
   "source": [
    "@bot.register(my_friend, TEXT)\n",
    "def auto_reply(msg):\n",
    "    # 回复消息内容和类型\n",
    "    \n",
    "    message2 = respond(msg.text)\n",
    "    if msg.text == 'What do you think your designer want you to do today':\n",
    "        msg.reply(message2)\n",
    "        msg.reply_image(path)\n",
    "        msg.reply_image(path2)\n",
    "        return\n",
    "    return message2\n",
    "\n",
    "# def auto_reply_demo(msg):\n",
    "#     print(msg.text)\n",
    "#     msg.reply_image(path)\n",
    "#     return \n",
    "\n",
    "\n",
    "\n"
   ]
  },
  {
   "cell_type": "code",
   "execution_count": 10,
   "metadata": {
    "ExecuteTime": {
     "end_time": "2019-02-05T03:51:43.262813Z",
     "start_time": "2019-02-05T03:51:43.255869Z"
    }
   },
   "outputs": [
    {
     "data": {
      "text/plain": [
       "[<MessageConfig: 清静: auto_reply (Enabled, Async)>,\n",
       " <MessageConfig: 清静: auto_reply (Enabled, Async)>]"
      ]
     },
     "execution_count": 10,
     "metadata": {},
     "output_type": "execute_result"
    }
   ],
   "source": [
    "#--------------------------------------------------- Monitor Registered Functions ------------------------------------\n",
    "bot.registered"
   ]
  },
  {
   "cell_type": "code",
   "execution_count": null,
   "metadata": {},
   "outputs": [],
   "source": [
    "# hi my fool\n",
    "# -Hi fool designer\n",
    "# hey why cant you speak chinese?\n",
    "# -Because my foolish designer dont know how to make me speak Chinese!\n",
    "# ...\n",
    "# -2333333\n",
    "# what do you think your designer want you to do today\n",
    "# -I guess this fool want me to say HAPPY NEW YEAR to all his friends!"
   ]
  },
  {
   "cell_type": "code",
   "execution_count": null,
   "metadata": {},
   "outputs": [],
   "source": []
  }
 ],
 "metadata": {
  "kernelspec": {
   "display_name": "Python 3",
   "language": "python",
   "name": "python3"
  },
  "language_info": {
   "codemirror_mode": {
    "name": "ipython",
    "version": 3
   },
   "file_extension": ".py",
   "mimetype": "text/x-python",
   "name": "python",
   "nbconvert_exporter": "python",
   "pygments_lexer": "ipython3",
   "version": "3.6.5"
  }
 },
 "nbformat": 4,
 "nbformat_minor": 2
}
